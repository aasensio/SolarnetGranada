{
 "metadata": {
  "name": "",
  "signature": "sha256:b594e0b3d40880483dfd5b601386d16490b66e7ad945c34c4aa2b47b4ff8511b"
 },
 "nbformat": 3,
 "nbformat_minor": 0,
 "worksheets": []
}