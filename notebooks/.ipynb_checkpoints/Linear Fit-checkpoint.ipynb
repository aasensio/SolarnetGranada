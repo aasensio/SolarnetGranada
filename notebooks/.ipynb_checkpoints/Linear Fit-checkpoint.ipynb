{
 "metadata": {
  "name": "",
  "signature": "sha256:455f78293267a87829af1883b68e167472aa0b9cb4eb2fe66ff47f2bd8a5ecf6"
 },
 "nbformat": 3,
 "nbformat_minor": 0,
 "worksheets": []
}